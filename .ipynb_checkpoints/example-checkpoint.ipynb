{
 "cells": [
  {
   "cell_type": "code",
   "execution_count": 22,
   "metadata": {},
   "outputs": [],
   "source": [
    "#SIMULATE CAN ASSIGN VALUES TO THESE PARAMETERS\n",
    "#Default parameters values are provided here \n",
    "parameters = {\n",
    "\"name\": \"Sam\",\n",
    "\"age\": 61,\n",
    "\"height_feet\": 6,\n",
    "\"height_inches\": 8,\n",
    "\"retired\": {\"sweep_me\": {\"type\":'list',\"value\":[True,False]}},\n",
    "\"hobbies\": [\"woodturning\",\"wood sculpture\"],\n",
    "\"interests\": {\"technical\":[\"AGI\",\"Programming\",\"Tools\"],\"spiritual\":[\"Bible study\",\"Pastoral counseling\",\"Teaching\",\"Preaching\"]}\n",
    "}"
   ]
  },
  {
   "cell_type": "code",
   "execution_count": 23,
   "metadata": {},
   "outputs": [],
   "source": [
    "#RESULTS TO RETURN TO SIMULATE AFTER THE RUN\n",
    "#Default result values are provided here\n",
    "results = {\n",
    "    \"height_in_inches\": 0,\n",
    "    \"number_of_interests\": 0\n",
    "}"
   ]
  },
  {
   "cell_type": "code",
   "execution_count": 24,
   "metadata": {},
   "outputs": [],
   "source": [
    "#Calculate height in inches and total number of interests\n",
    "results[\"height_in_inches\"] = parameters[\"height_feet\"] * 12 + parameters[\"height_inches\"]\n",
    "for key,value in parameters[\"interests\"].items():\n",
    "    results[\"number_of_interests\"] += len(value)"
   ]
  },
  {
   "cell_type": "code",
   "execution_count": 25,
   "metadata": {},
   "outputs": [
    {
     "name": "stdout",
     "output_type": "stream",
     "text": [
      "{'height_in_inches': 80, 'number_of_interests': 7}\n"
     ]
    }
   ],
   "source": [
    "print(results)"
   ]
  },
  {
   "cell_type": "code",
   "execution_count": 26,
   "metadata": {},
   "outputs": [
    {
     "name": "stdout",
     "output_type": "stream",
     "text": [
      "{'name': 'Sam', 'age': 61, 'height_feet': 6, 'height_inches': 8, 'retired': {'sweep_me': {'type': 'list', 'value': [True, False]}}, 'hobbies': ['woodturning', 'wood sculpture'], 'interests': {'technical': ['AGI', 'Programming', 'Tools'], 'spiritual': ['Bible study', 'Pastoral counseling', 'Teaching', 'Preaching']}}\n"
     ]
    }
   ],
   "source": [
    "print(parameters)"
   ]
  }
 ],
 "metadata": {
  "kernelspec": {
   "display_name": "Python 3",
   "language": "python",
   "name": "python3"
  },
  "language_info": {
   "codemirror_mode": {
    "name": "ipython",
    "version": 3
   },
   "file_extension": ".py",
   "mimetype": "text/x-python",
   "name": "python",
   "nbconvert_exporter": "python",
   "pygments_lexer": "ipython3",
   "version": "3.7.6"
  }
 },
 "nbformat": 4,
 "nbformat_minor": 4
}
